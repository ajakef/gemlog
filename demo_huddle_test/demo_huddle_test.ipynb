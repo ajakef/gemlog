{
 "cells": [
  {
   "cell_type": "markdown",
   "id": "fe098959",
   "metadata": {},
   "source": [
    "# Gem Quality Control Workflow (\"huddle test\")\n",
    "Geophysicists test their sensors using \"huddle tests\", where multiple instruments are placed in a location, subjected to similar conditions, and checked to ensure they record similar signals. The terminal command `gem_verify_huddle_test` automates the process of comparing waveform, GPS, and state-of-health data among the instruments, resulting in a more accurate, comprehensive, and consistent evaluation of test results. \n",
    "\n",
    "This workflow should not be used for routine field data processing. For that, please consult the \"demo_conversion\" notebook."
   ]
  },
  {
   "cell_type": "markdown",
   "id": "1980e858",
   "metadata": {},
   "source": [
    "### Installing the gemlog software\n",
    "Follow the gemlog installation procedure [here](https://github.com/ajakef/gemlog/blob/main/README.md). Note that the resulting conda environment includes relevant packages like obspy and pandas.\n"
   ]
  },
  {
   "cell_type": "markdown",
   "id": "d68fe5c9",
   "metadata": {},
   "source": [
    "### Getting Started\n",
    "First, download the zip file in the list of files above; this contains all the inputs needed for this demonstration. Move the file to some convenient folder, unzip it, and cd into the project folder. Then, set your conda environment to whatever you set up during the installation using a terminal command like `conda activate gem`.\n",
    "\n",
    "This demo includes data files from four different Gems run in a huddle test. Raw data files are not included because they are not inspected by this process; rather, only the derived data files are inspected (gps, state-of-health/metadata, and waveform/mseed). When running this procedure on your own test data, raw data must be converted before running `gem_verify_huddle_test`.\n",
    "```\n",
    "Project_Folder/\n",
    "|__gps/\t\t# gps\n",
    "|__metadata/\t# state-of-health data\n",
    "|__mseed/\t# waveform data\n",
    "```\n"
   ]
  },
  {
   "cell_type": "markdown",
   "id": "3c8103de",
   "metadata": {},
   "source": [
    "### Run the automated test evaluation\n",
    "Use this command in the terminal. The `-s` and `-x` options may be used to only process certain Gem serial numbers.\n"
   ]
  },
  {
   "cell_type": "code",
   "execution_count": null,
   "id": "2be24aa5",
   "metadata": {},
   "outputs": [],
   "source": [
    "gem_verify_huddle_test"
   ]
  },
  {
   "cell_type": "markdown",
   "id": "a6fdf956",
   "metadata": {},
   "source": [
    "If successful, a pdf report will be generated with several tables and figures showing performance of the Gems in the test and highlighting any problems.\n",
    "\n",
    "```\n",
    "Project_Folder/\n",
    "|__gps/\t\t# gps\n",
    "|__metadata/\t# state-of-health data\n",
    "|__mseed/\t# waveform data\n",
    "|__figures/\t# figures created for the report\n",
    "|__reports/\t# pdf reports showing test results\n",
    "```\n"
   ]
  },
  {
   "cell_type": "markdown",
   "id": "b7045c80",
   "metadata": {},
   "source": [
    "### Understanding test results\n",
    "In this example, the tables highlight potential problems:\n",
    "\n",
    "- A low battery warning for Gem #061. The battery voltage is low but within the Gem's operating range (for now). This is probably not a cause for concern for the Gem's battery sensor accuracy, but is intended to warn the user that unexpected behavior could occur on that Gem if the batteries are not changed.\n",
    "\n",
    "- A high battery error for Gem #077. The battery voltage is too high, outside the Gem's operating range (1.7-15 V). It would be very unlikely for the Gem to operate at such a high battery voltage; rather, this should be interpreted that the battery sensor has a problem that must be fixed.\n",
    "\n",
    "- A2 and A3 errors for Gems #061 and #065. A2 and A3 are auxiliary analog inputs, which can be connected to analog sensors of the user's choice (e.g., external thermistors, snow depth sensors, absolute pressure sensors, etc.). The A2 and A3 results for these Gems are considered suspicious because of long periods with exactly zero change, which could be due to firmware bugs (as in this case) or short circuits.\n",
    "\n",
    "Explanations for all failure conditions and recommended troubleshooting tips are provided at the end of the report.\n"
   ]
  },
  {
   "cell_type": "markdown",
   "id": "297053f2",
   "metadata": {},
   "source": [
    "### How to conduct an effective huddle test\n",
    "- Test 3-8 Gems at a time; fewer than 3 makes it hard to tell which Gem is wrong in a disagreement, and more than 8 is cumbersome. Ensure that all batteries have enough life that Gems will not drop out during the test. Start with empty memory cards.\n",
    "\n",
    "- Place all Gems in a place with GPS reception, in as small of a circle as possible, with barbs facing inwards. This helps ensure that they all record similar signals, even for short-wavelength signals due to turbulence/wind. \n",
    "\n",
    "- If needed, give the Gems time to equilibrate to the ambient temperature with lids open. Avoid testing them in sunlight, which could affect internal temperatures differently and trigger false errors.\n",
    "\n",
    "- Start all Gems at about the same time, ideally within one minute. Before leaving them, check the LED codes to ensure they all get a GPS signal.\n",
    "\n",
    "- Run the Gems for around a couple hours to a couple days. Less than a couple hours can be insufficient to characterize their GPS performance. More than a couple days is cumbersome. Some infrasound event should occur during this period (doors closing work very well).\n",
    "\n",
    "- Copy the data to your computer and convert it, resulting in a folder structure as shown above.\n",
    "\n",
    "- Visually inspect some waveform data (this task is difficult to automate) using a viewer like PQL or the `Stream.plot()` method in obspy. A high-pass filter of at least 1 Hz is generally needed to find events efficiently. Find an event that is highly coherent among the different Gems' traces. Data should agree in timing (down to 0.01 sec); this can be checked visually by zooming in on a high-frequency event (e.g., door slam) and filtering above 20 Hz. Additionally, data should agree in waveform shape and spectrum shape.\n",
    "\n",
    "- Finally, run `gem_verify_huddle_test` as above, and check the report."
   ]
  }
 ],
 "metadata": {
  "kernelspec": {
   "display_name": "Python 3 (ipykernel)",
   "language": "python",
   "name": "python3"
  },
  "language_info": {
   "codemirror_mode": {
    "name": "ipython",
    "version": 3
   },
   "file_extension": ".py",
   "mimetype": "text/x-python",
   "name": "python",
   "nbconvert_exporter": "python",
   "pygments_lexer": "ipython3",
   "version": "3.10.5"
  }
 },
 "nbformat": 4,
 "nbformat_minor": 5
}
